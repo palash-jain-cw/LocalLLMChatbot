{
 "cells": [
  {
   "cell_type": "code",
   "execution_count": 9,
   "metadata": {},
   "outputs": [],
   "source": [
    "from pprint import pprint"
   ]
  },
  {
   "cell_type": "markdown",
   "metadata": {},
   "source": [
    "# Basic Chat Response"
   ]
  },
  {
   "cell_type": "code",
   "execution_count": 18,
   "metadata": {},
   "outputs": [
    {
     "name": "stdout",
     "output_type": "stream",
     "text": [
      "{'created_at': '2024-12-28T07:25:41.073035Z',\n",
      " 'done': True,\n",
      " 'done_reason': 'stop',\n",
      " 'eval_count': 377,\n",
      " 'eval_duration': 14297000000,\n",
      " 'load_duration': 47958541,\n",
      " 'message': {'content': 'The sky appears blue because of a phenomenon called '\n",
      "                        'scattering, which occurs when sunlight interacts with '\n",
      "                        \"the tiny molecules of gases in the Earth's \"\n",
      "                        \"atmosphere. Here's a simplified explanation:\\n\"\n",
      "                        '\\n'\n",
      "                        '1. **Sunlight enters the atmosphere**: When the sun '\n",
      "                        'shines, its light travels through space and enters '\n",
      "                        'our atmosphere.\\n'\n",
      "                        '2. **Scattering by gas molecules**: The light '\n",
      "                        'encounters tiny molecules of gases such as nitrogen '\n",
      "                        '(N2) and oxygen (O2) in the atmosphere. These '\n",
      "                        'molecules are much smaller than the wavelength of '\n",
      "                        'visible light.\\n'\n",
      "                        '3. **Shorter wavelengths scatter more**: When light '\n",
      "                        'hits a gas molecule, it scatters in all directions. '\n",
      "                        'However, shorter wavelengths (like blue and violet '\n",
      "                        'light) are scattered more than longer wavelengths '\n",
      "                        '(like red light). This is known as Rayleigh '\n",
      "                        'scattering.\\n'\n",
      "                        '4. **Blue light dominates the sky**: As a result of '\n",
      "                        'this scattering, the shorter wavelengths of blue and '\n",
      "                        'violet light are distributed throughout the '\n",
      "                        'atmosphere, making them visible from our vantage '\n",
      "                        \"point on the Earth's surface.\\n\"\n",
      "                        '\\n'\n",
      "                        \"The reason we don't see more violet light in the sky \"\n",
      "                        'is that our eyes are less sensitive to its shorter '\n",
      "                        'wavelength. In fact, most of what reaches our eyes is '\n",
      "                        'the scattered blue light!\\n'\n",
      "                        '\\n'\n",
      "                        \"It's worth noting that the color of the sky can \"\n",
      "                        'change under different conditions:\\n'\n",
      "                        '\\n'\n",
      "                        '* During sunrise and sunset, the angle of the sun is '\n",
      "                        'lower in the sky, and the atmosphere scatters more '\n",
      "                        'red and orange light, making these colors appear more '\n",
      "                        'prominent.\\n'\n",
      "                        '* On cloudy days or at high altitudes, the scattering '\n",
      "                        'effect is less pronounced, resulting in a grayish or '\n",
      "                        'white appearance.\\n'\n",
      "                        '* In areas with high levels of air pollution or '\n",
      "                        'aerosols, the scattered light can be altered, '\n",
      "                        'changing the apparent color of the sky.\\n'\n",
      "                        '\\n'\n",
      "                        'So, to summarize: the sky appears blue because '\n",
      "                        'shorter wavelengths (like blue and violet light) are '\n",
      "                        'scattered more by gas molecules in the atmosphere '\n",
      "                        'than longer wavelengths.',\n",
      "             'images': None,\n",
      "             'role': 'assistant',\n",
      "             'tool_calls': None},\n",
      " 'model': 'llama3.2:3b',\n",
      " 'prompt_eval_count': 31,\n",
      " 'prompt_eval_duration': 331000000,\n",
      " 'total_duration': 14677295333}\n"
     ]
    }
   ],
   "source": [
    "from ollama import chat\n",
    "from ollama import ChatResponse\n",
    "\n",
    "response: ChatResponse = chat(\n",
    "    model=\"llama3.2:3b\",\n",
    "    messages=[\n",
    "        {\n",
    "            \"role\": \"user\",\n",
    "            \"content\": \"Why is the sky blue?\",\n",
    "        },\n",
    "    ],\n",
    ")\n",
    "# or access fields directly from the response object\n",
    "pprint(response.model_dump())"
   ]
  },
  {
   "cell_type": "markdown",
   "metadata": {},
   "source": [
    "# Streaming Response"
   ]
  },
  {
   "cell_type": "code",
   "execution_count": 4,
   "metadata": {},
   "outputs": [
    {
     "name": "stdout",
     "output_type": "stream",
     "text": [
      "The sky appears blue because of a phenomenon called Rayleigh scattering, named after the British physicist Lord Rayleigh. This occurs when sunlight interacts with the tiny molecules of gases in the Earth's atmosphere, such as nitrogen and oxygen.\n",
      "\n",
      "When sunlight enters the Earth's atmosphere, it encounters these tiny molecules, which scatter the shorter (blue) wavelengths more than the longer (red) wavelengths. This is because the smaller molecules are more effective at scattering the shorter wavelengths due to their size.\n",
      "\n",
      "As a result of this scattering, the blue light is dispersed in all directions and reaches our eyes from all parts of the sky, making it appear blue. The color of the sky can change depending on various factors such as:\n",
      "\n",
      "1. Time of day: During sunrise and sunset, the sky often appears more red or orange due to the scattering of longer wavelengths.\n",
      "2. Atmospheric conditions: Dust, pollution, and water vapor in the air can scatter light in different ways, changing the apparent color of the sky.\n",
      "3. Altitude: At higher elevations, the air is thinner, which means there are fewer molecules to scatter the light, resulting in a more neutral or grayish hue.\n",
      "\n",
      "So, to summarize, the sky appears blue because of the scattering of sunlight by the tiny molecules in the atmosphere, making shorter wavelengths (like blue) more visible than longer wavelengths (like red)."
     ]
    }
   ],
   "source": [
    "from ollama import chat\n",
    "\n",
    "stream = chat(\n",
    "    model=\"llama3.2:3b\",\n",
    "    messages=[{\"role\": \"user\", \"content\": \"Why is the sky blue?\"}],\n",
    "    stream=True,\n",
    ")\n",
    "\n",
    "for chunk in stream:\n",
    "    print(chunk[\"message\"][\"content\"], end=\"\", flush=True)"
   ]
  },
  {
   "cell_type": "code",
   "execution_count": 5,
   "metadata": {},
   "outputs": [],
   "source": [
    "import streamlit as st"
   ]
  },
  {
   "cell_type": "code",
   "execution_count": 6,
   "metadata": {},
   "outputs": [
    {
     "data": {
      "text/plain": [
       "''"
      ]
     },
     "execution_count": 6,
     "metadata": {},
     "output_type": "execute_result"
    }
   ],
   "source": [
    "st.write_stream(stream)"
   ]
  },
  {
   "cell_type": "markdown",
   "metadata": {},
   "source": [
    "# Adding System Prompts"
   ]
  },
  {
   "cell_type": "code",
   "execution_count": 7,
   "metadata": {},
   "outputs": [
    {
     "name": "stdout",
     "output_type": "stream",
     "text": [
      "The sky appears blue due to a phenomenon called Rayleigh scattering, where shorter (blue) wavelengths of light are scattered more by the Earth's atmosphere, resulting in this color appearance. The amount of scattering varies with sunlight's angle and atmospheric conditions."
     ]
    }
   ],
   "source": [
    "from ollama import chat\n",
    "\n",
    "stream = chat(\n",
    "    model=\"llama3.2:3b\",\n",
    "    messages=[\n",
    "        {\n",
    "            \"role\": \"system\",\n",
    "            \"content\": \"You are a helpful assistant. Respond to the user queries in less than 50 words\",\n",
    "        },\n",
    "        {\"role\": \"user\", \"content\": \"Why is the sky blue?\"},\n",
    "    ],\n",
    "    stream=True,\n",
    ")\n",
    "\n",
    "for chunk in stream:\n",
    "    print(chunk[\"message\"][\"content\"], end=\"\", flush=True)"
   ]
  },
  {
   "cell_type": "markdown",
   "metadata": {},
   "source": [
    "# Custom Ollama Class"
   ]
  },
  {
   "cell_type": "code",
   "execution_count": 1,
   "metadata": {},
   "outputs": [],
   "source": [
    "from localllmchatbot.LocalModelChat.LocalModelChat import LocalModelChat"
   ]
  },
  {
   "cell_type": "code",
   "execution_count": 2,
   "metadata": {},
   "outputs": [
    {
     "name": "stderr",
     "output_type": "stream",
     "text": [
      "2024-12-28T13:45:52.664346+0530 | INFO | localllmchatbot.LocalModelChat.LocalModelChat | 16 | Initializing ChatOllama with model: llama3.2:3b, base_url: , system_prompt: You are a helpful assistant. Respond to the user queries in less than 50 words, and tools: []\n"
     ]
    }
   ],
   "source": [
    "llm = LocalModelChat(\n",
    "    model=\"llama3.2:3b\",\n",
    "    base_url=\"\",\n",
    "    system_prompt=\"You are a helpful assistant. Respond to the user queries in less than 50 words\",\n",
    "    tools=[],\n",
    ")"
   ]
  },
  {
   "cell_type": "code",
   "execution_count": 3,
   "metadata": {},
   "outputs": [
    {
     "name": "stderr",
     "output_type": "stream",
     "text": [
      "2024-12-28T13:45:54.225607+0530 | INFO | localllmchatbot.LocalModelChat.LocalModelChat | 31 | Generating chat response for prompt: My Name is Palash\n",
      "2024-12-28T13:45:55.329779+0530 | INFO | localllmchatbot.LocalModelChat.LocalModelChat | 31 | Generating chat response for prompt: Tell me a joke\n",
      "2024-12-28T13:45:56.016516+0530 | INFO | localllmchatbot.LocalModelChat.LocalModelChat | 31 | Generating chat response for prompt: Tell me another\n",
      "2024-12-28T13:45:56.550207+0530 | INFO | localllmchatbot.LocalModelChat.LocalModelChat | 31 | Generating chat response for prompt: What is my name\n"
     ]
    },
    {
     "data": {
      "text/plain": [
       "ChatResponse(model='llama3.2:3b', created_at='2024-12-28T08:15:57.349237Z', done=True, done_reason='stop', total_duration=798121584, load_duration=12733250, prompt_eval_count=144, prompt_eval_duration=121000000, eval_count=24, eval_duration=661000000, message=Message(role='assistant', content='Your name, Palash, as mentioned earlier. Would you like to hear another joke or chat about something else?', images=None, tool_calls=None))"
      ]
     },
     "execution_count": 3,
     "metadata": {},
     "output_type": "execute_result"
    }
   ],
   "source": [
    "llm._generate_chat_response(prompt=\"My Name is Palash\")\n",
    "llm._generate_chat_response(prompt=\"Tell me a joke\")\n",
    "llm._generate_chat_response(prompt=\"Tell me another\")\n",
    "llm._generate_chat_response(prompt=\"What is my name\")\n"
   ]
  },
  {
   "cell_type": "code",
   "execution_count": 4,
   "metadata": {},
   "outputs": [
    {
     "data": {
      "text/plain": [
       "[{'role': 'system',\n",
       "  'content': 'You are a helpful assistant. Respond to the user queries in less than 50 words'},\n",
       " {'role': 'user', 'content': 'My Name is Palash'},\n",
       " {'role': 'assistant',\n",
       "  'content': \"Hi Palash! It's nice to meet you. Is there something I can help you with or would you like to chat?\"},\n",
       " {'role': 'user', 'content': 'Tell me a joke'},\n",
       " {'role': 'assistant',\n",
       "  'content': \"Why couldn't the bicycle stand up by itself? Because it was two-tired!\"},\n",
       " {'role': 'user', 'content': 'Tell me another'},\n",
       " {'role': 'assistant',\n",
       "  'content': 'What do you call a fake noodle? An impasta.'},\n",
       " {'role': 'user', 'content': 'What is my name'},\n",
       " {'role': 'assistant',\n",
       "  'content': 'Your name, Palash, as mentioned earlier. Would you like to hear another joke or chat about something else?'}]"
      ]
     },
     "execution_count": 4,
     "metadata": {},
     "output_type": "execute_result"
    }
   ],
   "source": [
    "llm.message_history"
   ]
  },
  {
   "cell_type": "code",
   "execution_count": 1,
   "metadata": {},
   "outputs": [],
   "source": [
    "import ollama"
   ]
  },
  {
   "cell_type": "code",
   "execution_count": 4,
   "metadata": {},
   "outputs": [
    {
     "data": {
      "text/plain": [
       "{'models': [{'model': 'mannix/llama3.1-8b-lexi:latest',\n",
       "   'modified_at': datetime.datetime(2024, 12, 28, 7, 33, 28, 395528, tzinfo=TzInfo(+05:30)),\n",
       "   'digest': '914689c83027b16efa70e0bdc5e8537bfc1818c7b1f6321048510f5ff97e1596',\n",
       "   'size': 4661226236,\n",
       "   'details': {'parent_model': '',\n",
       "    'format': 'gguf',\n",
       "    'family': 'llama',\n",
       "    'families': ['llama'],\n",
       "    'parameter_size': '8.0B',\n",
       "    'quantization_level': 'Q4_0'}},\n",
       "  {'model': 'mxbai-embed-large:latest',\n",
       "   'modified_at': datetime.datetime(2024, 12, 21, 23, 20, 32, 555009, tzinfo=TzInfo(+05:30)),\n",
       "   'digest': '468836162de7f81e041c43663fedbbba921dcea9b9fefea135685a39b2d83dd8',\n",
       "   'size': 669615493,\n",
       "   'details': {'parent_model': '',\n",
       "    'format': 'gguf',\n",
       "    'family': 'bert',\n",
       "    'families': ['bert'],\n",
       "    'parameter_size': '334M',\n",
       "    'quantization_level': 'F16'}},\n",
       "  {'model': 'luminon/toolace-8b:latest',\n",
       "   'modified_at': datetime.datetime(2024, 12, 20, 22, 33, 49, 281993, tzinfo=TzInfo(+05:30)),\n",
       "   'digest': 'd79fe7df9726ec2f458e9a681775ee92fd56b90098196ef816fcf1f5c8ed3486',\n",
       "   'size': 4920737776,\n",
       "   'details': {'parent_model': '',\n",
       "    'format': 'gguf',\n",
       "    'family': 'llama',\n",
       "    'families': ['llama'],\n",
       "    'parameter_size': '8.0B',\n",
       "    'quantization_level': 'Q4_K_M'}},\n",
       "  {'model': 'mistral-nemo:latest',\n",
       "   'modified_at': datetime.datetime(2024, 12, 14, 20, 59, 45, 305349, tzinfo=TzInfo(+05:30)),\n",
       "   'digest': '994f3b8b78011aa6d578b0c889cbb89a64b778f80d73b8d991a8db1f1e710ace',\n",
       "   'size': 7071713232,\n",
       "   'details': {'parent_model': '',\n",
       "    'format': 'gguf',\n",
       "    'family': 'llama',\n",
       "    'families': ['llama'],\n",
       "    'parameter_size': '12.2B',\n",
       "    'quantization_level': 'Q4_0'}},\n",
       "  {'model': 'all-minilm:33m',\n",
       "   'modified_at': datetime.datetime(2024, 12, 11, 12, 7, 19, 195714, tzinfo=TzInfo(+05:30)),\n",
       "   'digest': '4f5da3bd944d9ad1cd3acc7d065ee54367a4c703f51fb6295bd8bc5007ed0c4a',\n",
       "   'size': 67319908,\n",
       "   'details': {'parent_model': '',\n",
       "    'format': 'gguf',\n",
       "    'family': 'bert',\n",
       "    'families': ['bert'],\n",
       "    'parameter_size': '33M',\n",
       "    'quantization_level': 'F16'}},\n",
       "  {'model': 'qwen2.5-coder:1.5b',\n",
       "   'modified_at': datetime.datetime(2024, 11, 30, 15, 56, 45, 772014, tzinfo=TzInfo(+05:30)),\n",
       "   'digest': '6d3abb8d2d5312625fcd99a442977923aca9afa8a9e0a73c01000f48082d9d94',\n",
       "   'size': 986062047,\n",
       "   'details': {'parent_model': '',\n",
       "    'format': 'gguf',\n",
       "    'family': 'qwen2',\n",
       "    'families': ['qwen2'],\n",
       "    'parameter_size': '1.5B',\n",
       "    'quantization_level': 'Q4_K_M'}},\n",
       "  {'model': 'qwen2.5-coder:latest',\n",
       "   'modified_at': datetime.datetime(2024, 11, 30, 15, 53, 20, 411270, tzinfo=TzInfo(+05:30)),\n",
       "   'digest': '2b0496514337a3d5901f1d253d01726c890b721e891335a56d6e08cedf3e2cb0',\n",
       "   'size': 4683087519,\n",
       "   'details': {'parent_model': '',\n",
       "    'format': 'gguf',\n",
       "    'family': 'qwen2',\n",
       "    'families': ['qwen2'],\n",
       "    'parameter_size': '7.6B',\n",
       "    'quantization_level': 'Q4_K_M'}},\n",
       "  {'model': 'llama3.1:latest',\n",
       "   'modified_at': datetime.datetime(2024, 11, 30, 12, 11, 21, 706414, tzinfo=TzInfo(+05:30)),\n",
       "   'digest': '42182419e9508c30c4b1fe55015f06b65f4ca4b9e28a744be55008d21998a093',\n",
       "   'size': 4661230766,\n",
       "   'details': {'parent_model': '',\n",
       "    'format': 'gguf',\n",
       "    'family': 'llama',\n",
       "    'families': ['llama'],\n",
       "    'parameter_size': '8.0B',\n",
       "    'quantization_level': 'Q4_0'}},\n",
       "  {'model': 'llama3.2:3b',\n",
       "   'modified_at': datetime.datetime(2024, 11, 30, 11, 3, 37, 708310, tzinfo=TzInfo(+05:30)),\n",
       "   'digest': 'a80c4f17acd55265feec403c7aef86be0c25983ab279d83f3bcd3abbcb5b8b72',\n",
       "   'size': 2019393189,\n",
       "   'details': {'parent_model': '',\n",
       "    'format': 'gguf',\n",
       "    'family': 'llama',\n",
       "    'families': ['llama'],\n",
       "    'parameter_size': '3.2B',\n",
       "    'quantization_level': 'Q4_K_M'}}]}"
      ]
     },
     "execution_count": 4,
     "metadata": {},
     "output_type": "execute_result"
    }
   ],
   "source": [
    "ollama.list().model_dump()"
   ]
  },
  {
   "cell_type": "code",
   "execution_count": null,
   "metadata": {},
   "outputs": [],
   "source": []
  }
 ],
 "metadata": {
  "kernelspec": {
   "display_name": ".venv",
   "language": "python",
   "name": "python3"
  },
  "language_info": {
   "codemirror_mode": {
    "name": "ipython",
    "version": 3
   },
   "file_extension": ".py",
   "mimetype": "text/x-python",
   "name": "python",
   "nbconvert_exporter": "python",
   "pygments_lexer": "ipython3",
   "version": "3.10.15"
  }
 },
 "nbformat": 4,
 "nbformat_minor": 2
}
